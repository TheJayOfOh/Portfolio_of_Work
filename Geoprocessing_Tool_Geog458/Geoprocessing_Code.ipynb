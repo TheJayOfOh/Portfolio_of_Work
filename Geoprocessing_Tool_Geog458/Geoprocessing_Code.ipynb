{
 "cells": [
  {
   "cell_type": "markdown",
   "metadata": {},
   "source": [
    "# Geoprocessing: Tools and Services\n",
    "## by: Jeremy Oster\n",
    "\n",
    "### Goals of this project:\n",
    "\n",
    "#### 1.\n",
    "   Develop flexible code that lets the user reclassify an attribute within a vector feature class according to flexible criteria\n",
    "\n",
    "#### 2. \n",
    "   Package the code up into a Geoprocessing tool that can be used within ArcGIS Desktop's GUI, within ModelBuilder, or in ArcPy.\n",
    "\n",
    "#### 3. \n",
    "   Experiment with new ways of putting the tool I develop out onto the internet as a service that could be used by other people on other computers from afar without downloading or installing the code locally."
   ]
  },
  {
   "cell_type": "markdown",
   "metadata": {},
   "source": [
    "#### Goal 1:\n",
    "- Assume the user gives you a valid shapefile (_mytable_)\n",
    "- Have the user specify that s/he wants to reclassify a specific field (_infield_)\n",
    "- store the results of the reclassify in a new field by a name the user specifies (_outfield_)\n",
    "- Take a user provided table (_reclasstable_) that tells you how to do the reclassification. Specifically, the table has columns named _lowerbound_, _upperbound_, and _value_.\n",
    "- For every row in _mytable_, have the code look at the value of _infield_ and decide what to write in the _outfield_...\n",
    "    To do this: \n",
    "    1. go throuh the _reclasstable_ to find the first row in _reclasstable_ where the value from _infield_ is greater than or equal to the _lowerbound_ and less-than-or-equal-to the _upperbound_\n",
    "    2. if this row exists: then _outfield_ should be set to _value_\n",
    "    3. if no row in the _reclasstable_ matches the current value in _infield_, then _outfield_ should be set to a special number called _notfoundvalue_, which the user has also specified."
   ]
  },
  {
   "cell_type": "code",
   "execution_count": 5,
   "metadata": {
    "collapsed": false
   },
   "outputs": [],
   "source": [
    "# ------------------------ Setup ----------------------------- #\n",
    "import os\n",
    "import sys\n",
    "sys.path.append('C:\\\\Program Files (x86)\\\\ArcGIS\\\\Desktop10.3\\\\bin')\n",
    "sys.path.append('C:\\\\Program Files (x86)\\\\ArcGIS\\\\Desktop10.3\\\\arcpy')\n",
    "sys.path.append('C:\\\\Program Files (x86)\\\\ArcGIS\\\\Desktop10.3\\\\ArcToolbox\\\\Scripts')\n",
    "import arcpy\n",
    "from arcpy import env\n",
    "env.overwriteOutput = True\n",
    "\n",
    "# ----------------------------------------------------------- #\n",
    "# Fields to be variables (** = used in code below):\n",
    "\n",
    "                    # mytable **\n",
    "                    # infield **\n",
    "                    # outfield **\n",
    "                    # reclasstable **\n",
    "                    # lowerbound **\n",
    "                    # upperbound **\n",
    "                    # value **\n",
    "                    # notfoundvalue **\n",
    "\n",
    "# ----------------------------------------------------------- #                    \n",
    "                    \n",
    "# Environment set locally for testing\n",
    "env.workspace = r\"F:\\Geog458 Adv Digital Geog\\Geoprocessing Tool\\temp_\"\n",
    "                    \n",
    "# -------- Start of the code for the Tool ------------------- #\n",
    "\n",
    "def reclassTool(mytable, infield, outfield, reclasstable, notfoundvalue):\n",
    "    # Checks for the input shapefile\n",
    "    if arcpy.Exists(mytable) == True:\n",
    "        # Checks for the reclasstable\n",
    "        if arcpy.Exists(reclasstable) == True:\n",
    "\n",
    "            # Makes the output field in mytable based on the infield\n",
    "            arcpy.AddField_management(mytable, outfield, \"TEXT\", \"50\", \"\", \"\", \"\", \"NULLABLE\")\n",
    "\n",
    "# ------------------------- Part 1 ----------------------------- #            \n",
    "            \n",
    "            cursor1 = arcpy.da.UpdateCursor(mytable, [infield, outfield])\n",
    "            \n",
    "            # Makes a list of the possible reclass values\n",
    "            values = []\n",
    "            \n",
    "            for row1 in cursor1:\n",
    "                \n",
    "                 # Makes the cursor for the reclasstable from which I make my values[] list\n",
    "                cursor2 = arcpy.da.SearchCursor(reclasstable, [\"lowerbound\", \"upperbound\", \"value\"])\n",
    "                \n",
    "                # Goes through each row in reclasstable to find the matching value for current row\n",
    "                for row2 in cursor2:\n",
    "\n",
    "                    # if value is not in values, add it to values\n",
    "                    if row2[2] not in values:\n",
    "                        values.append(row2[2])\n",
    "\n",
    "                del row2\n",
    "                del cursor2\n",
    "                \n",
    "                # for debugging\n",
    "                # by this line, values should be equal to (for our sample) [1, 2, 3, 4]\n",
    "                # print values        \n",
    "\n",
    "# ------------------------ Part 2 ----------------------------- #            \n",
    "\n",
    "                # Makes cursor2 again so that we can test the lowerbound and upperbound values\n",
    "                cursor2 = arcpy.da.SearchCursor(reclasstable, [\"lowerbound\", \"upperbound\", \"value\"])\n",
    "                \n",
    "                # Goes through each row in reclasstable *again* (for this table it runs 4 times, should find only 1 match)\n",
    "                for row2 in cursor2:\n",
    "\n",
    "                    # If infield value is greater than or equal to lowerbound \n",
    "                    # and lower than or equal to upperbound in any of the rows in reclasstable:\n",
    "                    if row1[0] >= row2[0] and row1[0] <= row2[1]:\n",
    "                        # ...then Oufield is equal to current matching value in reclasstable\n",
    "                        row1[1] = row2[2]\n",
    "                    else:\n",
    "                        pass\n",
    "\n",
    "                # for debugging:\n",
    "                # check to see if at some point row1[1] is assigned correctly, but then overwritten later...\n",
    "                # print row1[1]\n",
    "                # print \"---------\"\n",
    "\n",
    "                # if infield doesn't match any lower/upper-bound in reclasstable after loop, we need to test:\n",
    "                # if the outfield at this point (after the loop) is still not equal to any of the possible \n",
    "                #      values in reclasstable                 \n",
    "                if row1[1] not in values:\n",
    "\n",
    "                    # ...then Outfield is equal to the notfoundvalue\n",
    "                    row1[1] = notfoundvalue\n",
    "                else:\n",
    "                    pass\n",
    "\n",
    "                # After choosing (in the example) between 1, 2, 3, 4, or 9999 for outfield, updates current row.\n",
    "                cursor1.updateRow(row1)\n",
    "\n",
    "                # for debugging:\n",
    "                # Checks what each row is being assigned to\n",
    "                # print row1[1]\n",
    "                # print \"___________\"\n",
    "                \n",
    "            # Deletes rows and cursors to remove any potential locks on the input files\n",
    "            del row1\n",
    "            del row2\n",
    "            del cursor1\n",
    "            del cursor2\n",
    "            \n",
    "            print \"Reclass Finished!\"\n",
    "            \n",
    "        # For when there's no reclasstable:\n",
    "        else: \n",
    "            print \"Input Reclass Table does not exist.\"\n",
    "    # For when there's no input shapefile:\n",
    "    else: \n",
    "        print \"Input shapefile does not exist.\""
   ]
  },
  {
   "cell_type": "markdown",
   "metadata": {},
   "source": [
    "## Sample input conditions and ouputs\n",
    "\n",
    "Given the files:\n",
    "    King.shp   \n",
    "        and\n",
    "    ReclassTableExample.dbf\n",
    "    \n",
    "Relcass the field PopDens12 in King.shp according to ReclassTableExample.dbf"
   ]
  },
  {
   "cell_type": "code",
   "execution_count": 6,
   "metadata": {
    "collapsed": false
   },
   "outputs": [
    {
     "name": "stdout",
     "output_type": "stream",
     "text": [
      "Reclass Finished!\n"
     ]
    }
   ],
   "source": [
    "reclassTool(r\"F:\\Geog458 Adv Digital Geog\\Geoprocessing Tool\\temp_\\King.shp\", r\"PopDens12\", r\"ReclaDen\", \n",
    "            r\"F:\\Geog458 Adv Digital Geog\\Geoprocessing Tool\\temp_\\ReclassTableExample.dbf\", 9999)\n",
    "\n",
    "# Currently works!\n"
   ]
  },
  {
   "cell_type": "code",
   "execution_count": null,
   "metadata": {
    "collapsed": false
   },
   "outputs": [],
   "source": []
  },
  {
   "cell_type": "code",
   "execution_count": null,
   "metadata": {
    "collapsed": true
   },
   "outputs": [],
   "source": []
  }
 ],
 "metadata": {
  "kernelspec": {
   "display_name": "Python 2",
   "language": "python",
   "name": "python2"
  },
  "language_info": {
   "codemirror_mode": {
    "name": "ipython",
    "version": 2
   },
   "file_extension": ".py",
   "mimetype": "text/x-python",
   "name": "python",
   "nbconvert_exporter": "python",
   "pygments_lexer": "ipython2",
   "version": "2.7.10"
  }
 },
 "nbformat": 4,
 "nbformat_minor": 0
}
